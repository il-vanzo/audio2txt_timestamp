{
 "cells": [
  {
   "cell_type": "code",
   "execution_count": 10,
   "id": "9182d556-b0a3-48a6-be86-6a629c4e981b",
   "metadata": {},
   "outputs": [
    {
     "name": "stdout",
     "output_type": "stream",
     "text": [
      "Warning, no huggingface token used, needs to be saved in environment variable, otherwise will throw error loading VAD model...\n",
      "\n",
      "Could not download 'pyannote/segmentation' model.\n",
      "It might be because the model is private or gated so make\n",
      "sure to authenticate. Visit https://hf.co/settings/tokens to\n",
      "create your access token and retry with:\n",
      "\n",
      "   >>> Model.from_pretrained('pyannote/segmentation',\n",
      "   ...                       use_auth_token=YOUR_AUTH_TOKEN)\n",
      "\n",
      "If this still does not work, it might be because the model is gated:\n",
      "visit https://hf.co/pyannote/segmentation to accept the user conditions.\n",
      "Traceback (most recent call last):\n",
      "  File \"/usr/local/bin/whisperx\", line 8, in <module>\n",
      "    sys.exit(cli())\n",
      "  File \"/usr/local/lib/python3.9/dist-packages/whisperx/transcribe.py\", line 643, in cli\n",
      "    vad_pipeline = Inference(\n",
      "  File \"/usr/local/lib/python3.9/dist-packages/pyannote/audio/core/inference.py\", line 110, in __init__\n",
      "    specifications = self.model.specifications\n",
      "AttributeError: 'NoneType' object has no attribute 'specifications'\n"
     ]
    }
   ],
   "source": [
    "! pip install git+https://github.com/m-bain/whisperx.git"
   ]
  },
  {
   "cell_type": "code",
   "execution_count": null,
   "id": "b0281cf8-b5a8-4021-a01e-59493a90f833",
   "metadata": {},
   "outputs": [],
   "source": [
    "! pip install git+https://github.com/openai/whisper.git"
   ]
  },
  {
   "cell_type": "code",
   "execution_count": null,
   "id": "df686fb6-d418-4dad-9894-c0fc8899767c",
   "metadata": {},
   "outputs": [],
   "source": [
    "! whisperx De_frente.mp3 --model large --output_dir . --align_model WAV2VEC2_ASR_LARGE_LV60K_960H --align_extend 2"
   ]
  }
 ],
 "metadata": {
  "kernelspec": {
   "display_name": "Python 3 (ipykernel)",
   "language": "python",
   "name": "python3"
  },
  "language_info": {
   "codemirror_mode": {
    "name": "ipython",
    "version": 3
   },
   "file_extension": ".py",
   "mimetype": "text/x-python",
   "name": "python",
   "nbconvert_exporter": "python",
   "pygments_lexer": "ipython3",
   "version": "3.9.16"
  }
 },
 "nbformat": 4,
 "nbformat_minor": 5
}
